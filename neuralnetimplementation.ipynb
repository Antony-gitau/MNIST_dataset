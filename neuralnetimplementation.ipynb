{
  "nbformat": 4,
  "nbformat_minor": 0,
  "metadata": {
    "colab": {
      "name": "neuralnetimplementation.ipynb",
      "provenance": [],
      "authorship_tag": "ABX9TyMcp1FlQKut5T7ucM/WO7Se",
      "include_colab_link": true
    },
    "kernelspec": {
      "name": "python3",
      "display_name": "Python 3"
    },
    "language_info": {
      "name": "python"
    }
  },
  "cells": [
    {
      "cell_type": "markdown",
      "metadata": {
        "id": "view-in-github",
        "colab_type": "text"
      },
      "source": [
        "<a href=\"https://colab.research.google.com/github/Antony-gitau/MNIST_dataset/blob/main/neuralnetimplementation.ipynb\" target=\"_parent\"><img src=\"https://colab.research.google.com/assets/colab-badge.svg\" alt=\"Open In Colab\"/></a>"
      ]
    },
    {
      "cell_type": "markdown",
      "source": [
        "This notebook contains an algorithm that helps machines recognize handwritten digits. The motivation to implement this algorithm comes from reading [Neural networks and deep learning](http://neuralnetworksanddeeplearning.com/chap1.html) book which walked me through the core concepts of deep learning using MNIST dataset as the hands on exercise.\n",
        "\n",
        "The goals of this notebook:\n",
        "---\n",
        "1. Write shothand notes of the neural network concepts in the book\n",
        "2. Implement and test the algorithm that recognizes handwritten digits."
      ],
      "metadata": {
        "id": "CWdzHLG0k-_Z"
      }
    },
    {
      "cell_type": "markdown",
      "source": [
        "---\n",
        "Perceptron\n",
        "---\n",
        "\n",
        "Basically, perceptron weigh inputs and make a corresponding decision.\n",
        "\n",
        "example:\n",
        "\n",
        "If this weekend there is a hike coming up and i need to decide whether to go or not. \n",
        "the \"inputs\" or factors to consider while making the decision to go or not would be:-\n",
        " 1. Will my sister join me\n",
        " 2. Will I have a private means of travel to the hiking destination\n",
        " 3. Is the weather favourable for hiking\n",
        "\n",
        "If my sister joining me has significance of 3, and if I have a private means has a significance of 8 and if the weather is favourable takes a significance of 5. The significance is just how important that factor is to determining my going or not. Conventionally, the significance is the weight and the factor is the input. For me to go, I might decide the threshold is a 6. Threshold is conventionally known as bias. This means i will go to the hike if there is a private transport regardless of the other two inputs. Private transport matters to me a big deal. Now, supposing, i changed the threshold to 9 from 6. The decision paradigm changes. I will now go to the hike from atleast a combination of two inputs. We could also change the significance of the inputs and as such, we would have a different decision classifier.\n",
        "\n",
        "downside of perceptron:-\n",
        " 1. changing the weights/bias dont always result to the desired output.\n",
        " 2. A way to modify the weight and bias doesnt exist in a real life situation unlike our metaphor above.\n",
        " 3. There is just no way to teach a perceptron how to learn.\n",
        "\n",
        "---\n",
        "This is why we have \n",
        "\n",
        "Sigmoid neuron.\n",
        "---"
      ],
      "metadata": {
        "id": "XbIOsDxB_S83"
      }
    },
    {
      "cell_type": "code",
      "execution_count": null,
      "metadata": {
        "id": "POXVtxjZhWNY"
      },
      "outputs": [],
      "source": [
        "import pandas as pd\n",
        "import numpy as np\n",
        "import matplotlib.pyplot as plt\n",
        "import seaborn as sns"
      ]
    },
    {
      "cell_type": "code",
      "source": [
        ""
      ],
      "metadata": {
        "id": "CXss9jFlhiWG"
      },
      "execution_count": null,
      "outputs": []
    }
  ]
}